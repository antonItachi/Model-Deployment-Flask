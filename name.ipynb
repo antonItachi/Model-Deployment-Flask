{
 "cells": [
  {
   "cell_type": "code",
   "execution_count": 2,
   "outputs": [],
   "source": [
    "# importing the dataset\n",
    "import pandas\n",
    "import numpy\n",
    "from sklearn import preprocessing"
   ],
   "metadata": {
    "collapsed": false
   }
  },
  {
   "cell_type": "code",
   "execution_count": 3,
   "outputs": [],
   "source": [
    "df = pandas.read_csv('adult.csv')"
   ],
   "metadata": {
    "collapsed": false
   }
  },
  {
   "cell_type": "code",
   "execution_count": 4,
   "outputs": [],
   "source": [
    "df = df.drop(['fnlwgt', 'educational-num'], axis=1)"
   ],
   "metadata": {
    "collapsed": false
   }
  },
  {
   "cell_type": "code",
   "execution_count": 5,
   "outputs": [],
   "source": [
    "#missing values\n",
    "col_names = df.columns\n",
    "\n",
    "for c in col_names:\n",
    "    df = df.replace(\"?\", numpy.NaN)\n",
    "df = df.apply(lambda x: x.fillna(x.value_counts().index[0]))"
   ],
   "metadata": {
    "collapsed": false
   }
  },
  {
   "cell_type": "code",
   "execution_count": 11,
   "outputs": [
    {
     "data": {
      "text/plain": "   age  workclass  education  marital-status  occupation  relationship  race  \\\n0   39          7          9               4           1             1     4   \n1   50          6          9               2           4             0     4   \n2   38          4         11               0           6             1     4   \n3   53          4          1               2           6             0     2   \n4   28          4          9               2          10             5     2   \n5   37          4         12               2           4             5     4   \n6   49          4          6               3           8             1     2   \n7   52          6         11               2           4             0     4   \n8   31          4         12               4          10             1     4   \n9   42          4          9               2           4             0     4   \n\n   gender  capital-gain  capital-loss  hours-per-week  native-country  income  \n0       1          2174             0              40              39       0  \n1       1             0             0              13              39       0  \n2       1             0             0              40              39       0  \n3       1             0             0              40              39       0  \n4       0             0             0              40               5       0  \n5       0             0             0              40              39       0  \n6       0             0             0              16              23       0  \n7       1             0             0              45              39       1  \n8       0         14084             0              50              39       1  \n9       1          5178             0              40              39       1  ",
      "text/html": "<div>\n<style scoped>\n    .dataframe tbody tr th:only-of-type {\n        vertical-align: middle;\n    }\n\n    .dataframe tbody tr th {\n        vertical-align: top;\n    }\n\n    .dataframe thead th {\n        text-align: right;\n    }\n</style>\n<table border=\"1\" class=\"dataframe\">\n  <thead>\n    <tr style=\"text-align: right;\">\n      <th></th>\n      <th>age</th>\n      <th>workclass</th>\n      <th>education</th>\n      <th>marital-status</th>\n      <th>occupation</th>\n      <th>relationship</th>\n      <th>race</th>\n      <th>gender</th>\n      <th>capital-gain</th>\n      <th>capital-loss</th>\n      <th>hours-per-week</th>\n      <th>native-country</th>\n      <th>income</th>\n    </tr>\n  </thead>\n  <tbody>\n    <tr>\n      <th>0</th>\n      <td>39</td>\n      <td>7</td>\n      <td>9</td>\n      <td>4</td>\n      <td>1</td>\n      <td>1</td>\n      <td>4</td>\n      <td>1</td>\n      <td>2174</td>\n      <td>0</td>\n      <td>40</td>\n      <td>39</td>\n      <td>0</td>\n    </tr>\n    <tr>\n      <th>1</th>\n      <td>50</td>\n      <td>6</td>\n      <td>9</td>\n      <td>2</td>\n      <td>4</td>\n      <td>0</td>\n      <td>4</td>\n      <td>1</td>\n      <td>0</td>\n      <td>0</td>\n      <td>13</td>\n      <td>39</td>\n      <td>0</td>\n    </tr>\n    <tr>\n      <th>2</th>\n      <td>38</td>\n      <td>4</td>\n      <td>11</td>\n      <td>0</td>\n      <td>6</td>\n      <td>1</td>\n      <td>4</td>\n      <td>1</td>\n      <td>0</td>\n      <td>0</td>\n      <td>40</td>\n      <td>39</td>\n      <td>0</td>\n    </tr>\n    <tr>\n      <th>3</th>\n      <td>53</td>\n      <td>4</td>\n      <td>1</td>\n      <td>2</td>\n      <td>6</td>\n      <td>0</td>\n      <td>2</td>\n      <td>1</td>\n      <td>0</td>\n      <td>0</td>\n      <td>40</td>\n      <td>39</td>\n      <td>0</td>\n    </tr>\n    <tr>\n      <th>4</th>\n      <td>28</td>\n      <td>4</td>\n      <td>9</td>\n      <td>2</td>\n      <td>10</td>\n      <td>5</td>\n      <td>2</td>\n      <td>0</td>\n      <td>0</td>\n      <td>0</td>\n      <td>40</td>\n      <td>5</td>\n      <td>0</td>\n    </tr>\n    <tr>\n      <th>5</th>\n      <td>37</td>\n      <td>4</td>\n      <td>12</td>\n      <td>2</td>\n      <td>4</td>\n      <td>5</td>\n      <td>4</td>\n      <td>0</td>\n      <td>0</td>\n      <td>0</td>\n      <td>40</td>\n      <td>39</td>\n      <td>0</td>\n    </tr>\n    <tr>\n      <th>6</th>\n      <td>49</td>\n      <td>4</td>\n      <td>6</td>\n      <td>3</td>\n      <td>8</td>\n      <td>1</td>\n      <td>2</td>\n      <td>0</td>\n      <td>0</td>\n      <td>0</td>\n      <td>16</td>\n      <td>23</td>\n      <td>0</td>\n    </tr>\n    <tr>\n      <th>7</th>\n      <td>52</td>\n      <td>6</td>\n      <td>11</td>\n      <td>2</td>\n      <td>4</td>\n      <td>0</td>\n      <td>4</td>\n      <td>1</td>\n      <td>0</td>\n      <td>0</td>\n      <td>45</td>\n      <td>39</td>\n      <td>1</td>\n    </tr>\n    <tr>\n      <th>8</th>\n      <td>31</td>\n      <td>4</td>\n      <td>12</td>\n      <td>4</td>\n      <td>10</td>\n      <td>1</td>\n      <td>4</td>\n      <td>0</td>\n      <td>14084</td>\n      <td>0</td>\n      <td>50</td>\n      <td>39</td>\n      <td>1</td>\n    </tr>\n    <tr>\n      <th>9</th>\n      <td>42</td>\n      <td>4</td>\n      <td>9</td>\n      <td>2</td>\n      <td>4</td>\n      <td>0</td>\n      <td>4</td>\n      <td>1</td>\n      <td>5178</td>\n      <td>0</td>\n      <td>40</td>\n      <td>39</td>\n      <td>1</td>\n    </tr>\n  </tbody>\n</table>\n</div>"
     },
     "execution_count": 11,
     "metadata": {},
     "output_type": "execute_result"
    }
   ],
   "source": [
    "df.replace(['Divorced', 'Married-AF-spouse',\n",
    "            'Married-civ-spouse', 'Married-spouse-absent',\n",
    "            'Never-married', 'Separated', 'Widowed'],\n",
    "           ['divorced', 'married', 'married', 'married',\n",
    "            'not married', 'not married', 'not married'], inplace=True)\n",
    "\n",
    "category_col = ['workclass', 'race', 'education', 'marital-status', 'occupation',\n",
    "                'relationship', 'gender', 'native-country', 'income']\n",
    "\n",
    "#first,i applied discretization on categorical data, and then i will apply a label encoder\n",
    "labelEncoder = preprocessing.LabelEncoder()\n",
    "mapping_dict = {}\n",
    "for col in category_col:\n",
    "    df[col] = labelEncoder.fit_transform(df[col])\n",
    "\n",
    "    le_name_mapping = dict(zip(labelEncoder.classes_,\n",
    "                               labelEncoder.transform(labelEncoder.classes_)))\n",
    "\n",
    "    mapping_dict[col] = le_name_mapping\n",
    "#print(mapping_dict)\n",
    "df.head(10)"
   ],
   "metadata": {
    "collapsed": false
   }
  },
  {
   "cell_type": "code",
   "execution_count": 28,
   "outputs": [],
   "source": [
    "#Now, i seperating the data on train and test datasets\n",
    "from sklearn.model_selection import train_test_split\n",
    "from sklearn.tree import DecisionTreeClassifier\n",
    "from sklearn.metrics import accuracy_score\n",
    "\n",
    "X = df.values[:, 0:12]\n",
    "Y = df.values[:, 12]\n",
    "\n",
    "X_train, X_test, y_train, y_test = train_test_split(X, Y, test_size = 0.3, random_state = 100)"
   ],
   "metadata": {
    "collapsed": false
   }
  },
  {
   "cell_type": "code",
   "execution_count": 29,
   "outputs": [
    {
     "name": "stdout",
     "output_type": "stream",
     "text": [
      "Decision Tree using Gini Index\n",
      "Accuracy is  83.13031016480704\n"
     ]
    }
   ],
   "source": [
    "#Build the DecisionTreeClassifier model\n",
    "dt_clf_gini = DecisionTreeClassifier(criterion = \"gini\",\n",
    "                                     random_state = 100,\n",
    "                                     max_depth = 5,\n",
    "                                     min_samples_leaf = 5)\n",
    "\n",
    "dt_clf_gini.fit(X_train, y_train)\n",
    "y_pred_gini = dt_clf_gini.predict(X_test)\n",
    "\n",
    "print (\"Decision Tree using Gini Index\\nAccuracy is \",\n",
    "       accuracy_score(y_test, y_pred_gini)*100 )"
   ],
   "metadata": {
    "collapsed": false
   }
  },
  {
   "cell_type": "code",
   "execution_count": 33,
   "outputs": [
    {
     "data": {
      "text/plain": "Index(['age', 'workclass', 'education', 'marital-status', 'occupation',\n       'relationship', 'race', 'gender', 'capital-gain', 'capital-loss',\n       'hours-per-week', 'native-country', 'income'],\n      dtype='object')"
     },
     "execution_count": 33,
     "metadata": {},
     "output_type": "execute_result"
    }
   ],
   "source": [
    "col_names"
   ],
   "metadata": {
    "collapsed": false
   }
  },
  {
   "cell_type": "code",
   "execution_count": 31,
   "outputs": [],
   "source": [
    "import pickle\n",
    "with open('model_pkl', 'wb') as files:\n",
    "    pickle.dump(dt_clf_gini, files)"
   ],
   "metadata": {
    "collapsed": false
   }
  }
 ],
 "metadata": {
  "kernelspec": {
   "display_name": "Python 3",
   "language": "python",
   "name": "python3"
  },
  "language_info": {
   "codemirror_mode": {
    "name": "ipython",
    "version": 2
   },
   "file_extension": ".py",
   "mimetype": "text/x-python",
   "name": "python",
   "nbconvert_exporter": "python",
   "pygments_lexer": "ipython2",
   "version": "2.7.6"
  }
 },
 "nbformat": 4,
 "nbformat_minor": 0
}
